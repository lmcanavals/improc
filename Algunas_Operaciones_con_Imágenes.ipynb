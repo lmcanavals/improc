{
 "cells": [
  {
   "cell_type": "markdown",
   "metadata": {
    "id": "vwGT7uj_lwkN"
   },
   "source": [
    "# **Algunas Operaciones con Imágenes**"
   ]
  },
  {
   "cell_type": "code",
   "execution_count": null,
   "metadata": {
    "id": "CwJ3Vb9MmDf8"
   },
   "outputs": [],
   "source": [
    "import numpy as np\n",
    "from skimage.io import imread, imsave\n",
    "import matplotlib.pyplot as plt"
   ]
  },
  {
   "cell_type": "markdown",
   "metadata": {
    "id": "jFTIA2AFmJP2"
   },
   "source": [
    "### **Leer imágenes a colores**\n",
    "\n"
   ]
  },
  {
   "cell_type": "code",
   "execution_count": null,
   "metadata": {
    "id": "hDkx7j3omPKl"
   },
   "outputs": [],
   "source": [
    "im = imread('http://blog.redbus.pe/wp-content/uploads/2019/12/foto-lima.png')\n",
    "print(im.shape)"
   ]
  },
  {
   "cell_type": "code",
   "execution_count": null,
   "metadata": {
    "id": "ypVDtpcpmUb1"
   },
   "outputs": [],
   "source": [
    "print(im.dtype)"
   ]
  },
  {
   "cell_type": "code",
   "execution_count": null,
   "metadata": {
    "id": "DJjzmzfqmWqt"
   },
   "outputs": [],
   "source": [
    "print(im.min())"
   ]
  },
  {
   "cell_type": "code",
   "execution_count": null,
   "metadata": {
    "id": "28C1eogPmZzG"
   },
   "outputs": [],
   "source": [
    "print(im.max())"
   ]
  },
  {
   "cell_type": "code",
   "execution_count": null,
   "metadata": {
    "id": "OZuiWB_Bmchl"
   },
   "outputs": [],
   "source": [
    "plt.imshow(im)"
   ]
  },
  {
   "cell_type": "markdown",
   "metadata": {
    "id": "47mN6GpRmsGF"
   },
   "source": [
    "### **Leer imágenes a b/w  a.k.a. grayscale**"
   ]
  },
  {
   "cell_type": "code",
   "execution_count": null,
   "metadata": {
    "id": "FhIXOkw0oBnm"
   },
   "outputs": [],
   "source": [
    "im = imread('http://blog.redbus.pe/wp-content/uploads/2019/12/foto-lima.png', as_gray=True)\n",
    "print(im.shape)"
   ]
  },
  {
   "cell_type": "code",
   "execution_count": null,
   "metadata": {
    "id": "1WkkHGqSoBnt"
   },
   "outputs": [],
   "source": [
    "print(im.dtype)"
   ]
  },
  {
   "cell_type": "code",
   "execution_count": null,
   "metadata": {
    "id": "ZE4X12Z5oBnt"
   },
   "outputs": [],
   "source": [
    "print(im.min())"
   ]
  },
  {
   "cell_type": "code",
   "execution_count": null,
   "metadata": {
    "id": "7joXdFjvoBnu"
   },
   "outputs": [],
   "source": [
    "print(im.max())"
   ]
  },
  {
   "cell_type": "code",
   "execution_count": null,
   "metadata": {
    "id": "0FYOqGSyoBnu"
   },
   "outputs": [],
   "source": [
    "plt.imshow(im)\n",
    "plt.colorbar()"
   ]
  },
  {
   "cell_type": "code",
   "execution_count": null,
   "metadata": {
    "id": "6OVCAzxkoLIx"
   },
   "outputs": [],
   "source": [
    "plt.imshow(im, cmap='gray')"
   ]
  },
  {
   "cell_type": "markdown",
   "metadata": {
    "id": "iT_oy3gGl8PO"
   },
   "source": [
    "### **Convertir a Blanco y Negro**"
   ]
  },
  {
   "cell_type": "code",
   "execution_count": null,
   "metadata": {
    "id": "wY0bjjpSmZFt"
   },
   "outputs": [],
   "source": [
    "im = imread('http://blog.redbus.pe/wp-content/uploads/2019/12/foto-lima.png')[:,:,:3]\n",
    "print(im.shape)"
   ]
  },
  {
   "cell_type": "code",
   "execution_count": null,
   "metadata": {
    "id": "hdphl6_joXvi"
   },
   "outputs": [],
   "source": [
    "plt.imshow(im)"
   ]
  },
  {
   "cell_type": "code",
   "execution_count": null,
   "metadata": {
    "id": "Jx7RlTRxlaC-"
   },
   "outputs": [],
   "source": [
    "im = im.mean(axis=2)\n",
    "im.shape"
   ]
  },
  {
   "cell_type": "code",
   "execution_count": null,
   "metadata": {
    "id": "5dR7yHl8itdT"
   },
   "outputs": [],
   "source": [
    "print(im.dtype)"
   ]
  },
  {
   "cell_type": "code",
   "execution_count": null,
   "metadata": {
    "id": "LAEV6COUiv7a"
   },
   "outputs": [],
   "source": [
    "print(im.min())"
   ]
  },
  {
   "cell_type": "code",
   "execution_count": null,
   "metadata": {
    "id": "jlIwXl-Riysj"
   },
   "outputs": [],
   "source": [
    "print(im.max())"
   ]
  },
  {
   "cell_type": "code",
   "execution_count": null,
   "metadata": {
    "id": "Nv97MmNfofES"
   },
   "outputs": [],
   "source": [
    "plt.imshow(im, cmap='gray')"
   ]
  },
  {
   "cell_type": "markdown",
   "metadata": {
    "id": "b6YaP7S_l1EO"
   },
   "source": [
    "### **Operaciones aritméticas con Imágenes -> Adición de imágenes e Interpolación**"
   ]
  },
  {
   "cell_type": "code",
   "execution_count": null,
   "metadata": {
    "id": "lee4JtVjqMYS"
   },
   "outputs": [],
   "source": [
    "#@title Descargar Data de Dígitos\n",
    "from tensorflow.keras.datasets import mnist\n",
    "from IPython.display import Image\n",
    "import imageio\n",
    "(x_train, _), (x_test, _) = mnist.load_data()\n",
    "x_train = x_train.astype('float32') / 255.\n",
    "x_test = x_test.astype('float32') / 255.\n",
    "x_train = np.reshape(x_train, (len(x_train), 28, 28, 1))  # adapt this if using `channels_first` image data format\n",
    "x_test = np.reshape(x_test, (len(x_test), 28, 28, 1))  # adapt this if using `channels_first` image data format"
   ]
  },
  {
   "cell_type": "code",
   "execution_count": null,
   "metadata": {
    "id": "W6ng69rvl0Qk"
   },
   "outputs": [],
   "source": [
    "#@title Obtener Dígitos **x1** y **x2** (aleatoriamente)\n",
    "idx1 = np.random.randint(x_test.shape[0])\n",
    "idx2 = np.random.randint(x_test.shape[0])\n",
    "x1 = x_test[idx1][None,:]\n",
    "x2 = x_test[idx2][None,:]\n",
    "plt.figure()\n",
    "plt.subplot(1,2, 1)\n",
    "plt.title(\"x1\")\n",
    "plt.imshow(x1[0,:,:,0], cmap='gray')\n",
    "plt.subplot(1,2, 2)\n",
    "plt.title(\"x2\")\n",
    "plt.imshow(x2[0,:,:,0], cmap='gray')\n",
    "plt.show()"
   ]
  },
  {
   "cell_type": "markdown",
   "metadata": {
    "id": "Ne4ugIeu3I3E"
   },
   "source": [
    "### Interpolar en el espacio de los pixeles: $x_1 + \\alpha*(x_2-x_1)$ donde $0 \\leq \\alpha \\leq 1$"
   ]
  },
  {
   "cell_type": "code",
   "execution_count": null,
   "metadata": {
    "id": "m18LPYYV7WNW"
   },
   "outputs": [],
   "source": [
    "#@title Generar GIF\n",
    "gif = []\n",
    "for alpha in np.linspace(0,1,100):\n",
    "  pixel_diff = x1 + alpha*(x2-x1)\n",
    "  gif.append(np.uint8(pixel_diff[0,:,:,0]*255))\n",
    "try:\n",
    "  imageio.mimsave('im.gif', gif)\n",
    "except:\n",
    "  pass\n",
    "Image('im.gif', format='png', width=255)"
   ]
  },
  {
   "cell_type": "code",
   "execution_count": null,
   "metadata": {
    "id": "K9cd2a5D3I-x"
   },
   "outputs": [],
   "source": [
    "#@title Interpolación { run: \"auto\" }\n",
    "alpha = 0.33 #@param {type:\"slider\", min:0, max:1, step:0.01}\n",
    "pixel_diff = x1 + alpha*(x2-x1)\n",
    "plt.imshow(pixel_diff[0,:,:,0], cmap='gray')"
   ]
  },
  {
   "cell_type": "code",
   "execution_count": null,
   "metadata": {
    "id": "qttvMj3TsD1b"
   },
   "outputs": [],
   "source": []
  }
 ],
 "metadata": {
  "colab": {
   "private_outputs": true,
   "provenance": []
  },
  "kernelspec": {
   "display_name": "Python 3 (ipykernel)",
   "language": "python",
   "name": "python3"
  },
  "language_info": {
   "codemirror_mode": {
    "name": "ipython",
    "version": 3
   },
   "file_extension": ".py",
   "mimetype": "text/x-python",
   "name": "python",
   "nbconvert_exporter": "python",
   "pygments_lexer": "ipython3",
   "version": "3.11.8"
  }
 },
 "nbformat": 4,
 "nbformat_minor": 4
}
