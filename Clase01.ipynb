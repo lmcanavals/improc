{
 "cells": [
  {
   "cell_type": "code",
   "execution_count": null,
   "metadata": {
    "id": "6DYzuPYAcw4Z",
    "tags": []
   },
   "outputs": [],
   "source": [
    "a = [1,2,3,4,5] #lista\n",
    "b = (1,2,3,4,5) #tuplas"
   ]
  },
  {
   "cell_type": "code",
   "execution_count": null,
   "metadata": {
    "id": "pwc1ApVPc6Og",
    "tags": []
   },
   "outputs": [],
   "source": [
    "print(a)\n",
    "print(b)"
   ]
  },
  {
   "cell_type": "code",
   "execution_count": null,
   "metadata": {
    "id": "sgOEkOMPdEif",
    "tags": []
   },
   "outputs": [],
   "source": [
    "a[0] = 99\n",
    "print(a)"
   ]
  },
  {
   "cell_type": "code",
   "execution_count": null,
   "metadata": {
    "id": "dGQVvgVOdKIH",
    "tags": []
   },
   "outputs": [],
   "source": [
    "b[0] = 99\n",
    "print(b)"
   ]
  },
  {
   "cell_type": "code",
   "execution_count": null,
   "metadata": {
    "id": "C9IJl6e6EE3R",
    "tags": []
   },
   "outputs": [],
   "source": [
    "import numpy as np\n",
    "import skimage #scikit-image\n",
    "import matplotlib.pyplot as plt"
   ]
  },
  {
   "cell_type": "code",
   "execution_count": null,
   "metadata": {
    "id": "xc746c38ESuk",
    "tags": []
   },
   "outputs": [],
   "source": [
    "im = skimage.data.astronaut()"
   ]
  },
  {
   "cell_type": "code",
   "execution_count": null,
   "metadata": {
    "id": "jCZlifH7fgPI",
    "tags": []
   },
   "outputs": [],
   "source": [
    "im"
   ]
  },
  {
   "cell_type": "code",
   "execution_count": null,
   "metadata": {
    "id": "X7jHl8F5HGrn",
    "tags": []
   },
   "outputs": [],
   "source": [
    "im.shape"
   ]
  },
  {
   "cell_type": "code",
   "execution_count": null,
   "metadata": {
    "id": "vzVtS4cKtuiG",
    "tags": []
   },
   "outputs": [],
   "source": [
    "im.max()"
   ]
  },
  {
   "cell_type": "code",
   "execution_count": null,
   "metadata": {
    "id": "FLXs3tVDtw8k",
    "tags": []
   },
   "outputs": [],
   "source": [
    "im.min()"
   ]
  },
  {
   "cell_type": "code",
   "execution_count": null,
   "metadata": {
    "id": "_avZcUXQHLzV",
    "tags": []
   },
   "outputs": [],
   "source": [
    "plt.imshow(im)"
   ]
  },
  {
   "cell_type": "code",
   "execution_count": null,
   "metadata": {
    "id": "XZ64b7wqco2Z",
    "tags": []
   },
   "outputs": [],
   "source": [
    "plt.title(\"Red\")\n",
    "plt.imshow(im[:,:,0], cmap='gray')\n",
    "plt.colorbar()"
   ]
  },
  {
   "cell_type": "code",
   "execution_count": null,
   "metadata": {
    "id": "E9qIRSP1d5N6",
    "tags": []
   },
   "outputs": [],
   "source": [
    "plt.title(\"Green\")\n",
    "plt.imshow(im[:,:,1], cmap='gray')"
   ]
  },
  {
   "cell_type": "code",
   "execution_count": null,
   "metadata": {
    "id": "PkbgMvffeU--",
    "tags": []
   },
   "outputs": [],
   "source": [
    "plt.title(\"Blue\")\n",
    "plt.imshow(im[:,:,2], cmap='gray')"
   ]
  },
  {
   "cell_type": "code",
   "execution_count": null,
   "metadata": {
    "id": "qGiBXaqXeY3e",
    "tags": []
   },
   "outputs": [],
   "source": [
    "plt.imshow(im[256:,256:,0], cmap='gray')"
   ]
  },
  {
   "cell_type": "code",
   "execution_count": null,
   "metadata": {
    "id": "1VVIIGneuYAM",
    "tags": []
   },
   "outputs": [],
   "source": [
    "plt.imshow(im[256:,256:,:])"
   ]
  },
  {
   "cell_type": "code",
   "execution_count": null,
   "metadata": {
    "id": "mOqzb9GyegXt",
    "tags": []
   },
   "outputs": [],
   "source": [
    "plt.imshow(np.random.randn(100,100), cmap='gray')\n",
    "plt.colorbar()"
   ]
  },
  {
   "cell_type": "code",
   "execution_count": null,
   "metadata": {
    "id": "8G7GkDalfpVb",
    "tags": []
   },
   "outputs": [],
   "source": [
    "plt.imshow(np.random.randn(100,100), cmap='inferno')\n",
    "plt.colorbar()\n"
   ]
  },
  {
   "cell_type": "code",
   "execution_count": null,
   "metadata": {
    "id": "tTScFYMxfzzV"
   },
   "outputs": [],
   "source": [
    "a = 1\n",
    "b = 2"
   ]
  },
  {
   "cell_type": "code",
   "execution_count": null,
   "metadata": {
    "id": "E1SmFG0PgUFX"
   },
   "outputs": [],
   "source": [
    "if b > a:\n",
    "  print(\"b es mayor que a\")"
   ]
  },
  {
   "cell_type": "code",
   "execution_count": null,
   "metadata": {
    "id": "7xz14zy6gZPg"
   },
   "outputs": [],
   "source": [
    "a = 10"
   ]
  },
  {
   "cell_type": "code",
   "execution_count": null,
   "metadata": {
    "id": "u7UFxs9jgc-J"
   },
   "outputs": [],
   "source": [
    "if b > a:\n",
    "  print(\"b es mayor que a\")"
   ]
  },
  {
   "cell_type": "code",
   "execution_count": null,
   "metadata": {
    "id": "CyeTpxCfgerh"
   },
   "outputs": [],
   "source": [
    "if b > a:\n",
    "  print(\"b es mayor que a\")\n",
    "else:\n",
    "  print(\"a es mayor que b\")"
   ]
  },
  {
   "cell_type": "code",
   "execution_count": null,
   "metadata": {
    "id": "mOSTill4gmHz"
   },
   "outputs": [],
   "source": [
    "for element in a:\n",
    "  print(element)"
   ]
  },
  {
   "cell_type": "code",
   "execution_count": null,
   "metadata": {
    "id": "vjnYLpxYgxzG"
   },
   "outputs": [],
   "source": [
    "for i in range(5):\n",
    "  print(i)"
   ]
  },
  {
   "cell_type": "code",
   "execution_count": null,
   "metadata": {
    "id": "CVWfPep6g81J"
   },
   "outputs": [],
   "source": [
    "def multiplicar_5(a):\n",
    "  print(5*a)"
   ]
  },
  {
   "cell_type": "code",
   "execution_count": null,
   "metadata": {
    "id": "7Fsl9QPEhiZC"
   },
   "outputs": [],
   "source": [
    "multiplicar_5(6)"
   ]
  }
 ],
 "metadata": {
  "colab": {
   "private_outputs": true,
   "provenance": []
  },
  "kernelspec": {
   "display_name": "Python 3 (ipykernel)",
   "language": "python",
   "name": "python3"
  },
  "language_info": {
   "codemirror_mode": {
    "name": "ipython",
    "version": 3
   },
   "file_extension": ".py",
   "mimetype": "text/x-python",
   "name": "python",
   "nbconvert_exporter": "python",
   "pygments_lexer": "ipython3",
   "version": "3.11.8"
  }
 },
 "nbformat": 4,
 "nbformat_minor": 4
}
